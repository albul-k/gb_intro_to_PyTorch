{
 "cells": [
  {
   "cell_type": "code",
   "execution_count": 1,
   "source": [
    "import torch\r\n",
    "import torchvision"
   ],
   "outputs": [],
   "metadata": {}
  },
  {
   "cell_type": "code",
   "execution_count": 50,
   "source": [
    "# Создайте случайный FloatTensor размера 3x4x5\r\n",
    "x = torch.randn(3, 4, 5).type(torch.float32)"
   ],
   "outputs": [],
   "metadata": {}
  },
  {
   "cell_type": "code",
   "execution_count": 51,
   "source": [
    "# Выведите его форму (shape)\r\n",
    "print(x.shape)"
   ],
   "outputs": [
    {
     "output_type": "stream",
     "name": "stdout",
     "text": [
      "torch.Size([3, 4, 5])\n"
     ]
    }
   ],
   "metadata": {}
  },
  {
   "cell_type": "code",
   "execution_count": 52,
   "source": [
    "# Приведите его к форме 6 X 10\r\n",
    "x_reshaped = x.reshape(6, 10)\r\n",
    "x_reshaped.shape"
   ],
   "outputs": [
    {
     "output_type": "execute_result",
     "data": {
      "text/plain": [
       "torch.Size([6, 10])"
      ]
     },
     "metadata": {},
     "execution_count": 52
    }
   ],
   "metadata": {}
  },
  {
   "cell_type": "code",
   "execution_count": 55,
   "source": [
    "# Умножьте его на вектор [1, 4, 2, 2, 1] поэлементно\r\n",
    "x * torch.LongTensor([1, 4, 2, 2, 1])"
   ],
   "outputs": [
    {
     "output_type": "execute_result",
     "data": {
      "text/plain": [
       "tensor([[[-0.7499, -0.2737, -0.8507,  2.2938, -0.5073],\n",
       "         [ 2.1882, -0.0937, -4.0180,  1.8087, -0.0263],\n",
       "         [-0.1879,  0.1444,  1.3021, -1.9485,  0.0748],\n",
       "         [-0.8489, -5.9156,  1.7853, -1.7034,  1.2753]],\n",
       "\n",
       "        [[-0.2601, -7.9931, -1.1137,  3.3888,  0.4065],\n",
       "         [ 0.8212,  1.7458,  4.6509, -3.3481,  0.1471],\n",
       "         [ 0.3116,  0.3622,  1.3441, -2.8856,  0.0412],\n",
       "         [-1.3735, -4.8372,  0.2355,  1.7282, -0.5221]],\n",
       "\n",
       "        [[ 2.6296, -1.1750, -0.9789,  0.8198,  0.1480],\n",
       "         [-1.3734,  3.7610, -2.5706, -3.0441, -0.7952],\n",
       "         [-0.5282, -4.1566, -2.4153, -3.1092, -0.7831],\n",
       "         [-0.2348,  4.8794, -1.1747, -4.5002, -0.8466]]])"
      ]
     },
     "metadata": {},
     "execution_count": 55
    }
   ],
   "metadata": {}
  },
  {
   "cell_type": "code",
   "execution_count": 57,
   "source": [
    "# Умножьте тензор матрично на себя, чтобы результат был размерности 6x6\r\n",
    "y = torch.matmul(x_reshaped, torch.transpose(x_reshaped, 0, 1))\r\n",
    "y.shape"
   ],
   "outputs": [
    {
     "output_type": "execute_result",
     "data": {
      "text/plain": [
       "torch.Size([6, 6])"
      ]
     },
     "metadata": {},
     "execution_count": 57
    }
   ],
   "metadata": {}
  },
  {
   "cell_type": "code",
   "execution_count": 61,
   "source": [
    "# Посчитайте производную функции y = x**3 + z - 75t в точке (1, 0.5, 2)\r\n",
    "\r\n",
    "\r\n",
    "from torch.autograd import Variable\r\n",
    "\r\n",
    "\r\n",
    "x = Variable(torch.FloatTensor([1.]), requires_grad = True)\r\n",
    "z = Variable(torch.FloatTensor([0.5]), requires_grad = True)\r\n",
    "t = Variable(torch.FloatTensor([2.]), requires_grad = True)\r\n",
    "\r\n",
    "\r\n",
    "y = x**3 + z - 75 * t\r\n",
    "y"
   ],
   "outputs": [
    {
     "output_type": "execute_result",
     "data": {
      "text/plain": [
       "tensor([-148.5000], grad_fn=<SubBackward0>)"
      ]
     },
     "metadata": {},
     "execution_count": 61
    }
   ],
   "metadata": {}
  },
  {
   "cell_type": "code",
   "execution_count": 62,
   "source": [
    "y.backward([x, z, t])\r\n",
    "print(torch.stack([x.grad, z.grad, t.grad]).sum())"
   ],
   "outputs": [
    {
     "output_type": "stream",
     "name": "stdout",
     "text": [
      "tensor(-71.)\n"
     ]
    }
   ],
   "metadata": {}
  },
  {
   "cell_type": "code",
   "execution_count": 63,
   "source": [
    "# Создайте единичный тензор размера 5x6\r\n",
    "z = torch.ones(5, 6)\r\n",
    "z"
   ],
   "outputs": [
    {
     "output_type": "execute_result",
     "data": {
      "text/plain": [
       "tensor([[1., 1., 1., 1., 1., 1.],\n",
       "        [1., 1., 1., 1., 1., 1.],\n",
       "        [1., 1., 1., 1., 1., 1.],\n",
       "        [1., 1., 1., 1., 1., 1.],\n",
       "        [1., 1., 1., 1., 1., 1.]])"
      ]
     },
     "metadata": {},
     "execution_count": 63
    }
   ],
   "metadata": {}
  },
  {
   "cell_type": "code",
   "execution_count": 49,
   "source": [
    "# Переведите его в формат numpy\r\n",
    "z.numpy()"
   ],
   "outputs": [
    {
     "output_type": "execute_result",
     "data": {
      "text/plain": [
       "array([[1., 1., 1., 1., 1., 1.],\n",
       "       [1., 1., 1., 1., 1., 1.],\n",
       "       [1., 1., 1., 1., 1., 1.],\n",
       "       [1., 1., 1., 1., 1., 1.],\n",
       "       [1., 1., 1., 1., 1., 1.]], dtype=float32)"
      ]
     },
     "metadata": {},
     "execution_count": 49
    }
   ],
   "metadata": {}
  },
  {
   "cell_type": "code",
   "execution_count": 80,
   "source": [
    "# Давайте теперь пооптимизируем: возьмите функцию y = x**w1 - 2 * x**2 + 5\r\n",
    "# Посчитайте \r\n",
    "\r\n",
    "from torch import nn, optim\r\n",
    "\r\n",
    "\r\n",
    "w1 = Variable(torch.randn(1), requires_grad = True)\r\n",
    "x = Variable(torch.randn(1), requires_grad = True)\r\n",
    "y = Variable(torch.randn(1), requires_grad = False)\r\n",
    "\r\n",
    "optimizer = optim.Adam([w1], lr=0.01)\r\n",
    "criterion = nn.MSELoss()\r\n",
    "\r\n",
    "w1, x, y"
   ],
   "outputs": [
    {
     "output_type": "execute_result",
     "data": {
      "text/plain": [
       "(tensor([1.0450], requires_grad=True),\n",
       " tensor([0.9240], requires_grad=True),\n",
       " tensor([-0.3700]))"
      ]
     },
     "metadata": {},
     "execution_count": 80
    }
   ],
   "metadata": {}
  },
  {
   "cell_type": "code",
   "execution_count": 82,
   "source": [
    "optimizer.zero_grad()\r\n",
    "\r\n",
    "pred = (x**w1) - (2 * x**2) + 5\r\n",
    "loss = criterion(pred, y)\r\n",
    "\r\n",
    "print('loss: ', loss.item())"
   ],
   "outputs": [
    {
     "output_type": "stream",
     "name": "stdout",
     "text": [
      "loss:  21.006338119506836\n"
     ]
    }
   ],
   "metadata": {}
  },
  {
   "cell_type": "code",
   "execution_count": 83,
   "source": [
    "loss.backward()\r\n",
    "optimizer.step()\r\n",
    "w1"
   ],
   "outputs": [
    {
     "output_type": "execute_result",
     "data": {
      "text/plain": [
       "tensor([1.0550], requires_grad=True)"
      ]
     },
     "metadata": {},
     "execution_count": 83
    }
   ],
   "metadata": {}
  }
 ],
 "metadata": {
  "kernelspec": {
   "name": "python3",
   "display_name": "Python 3.7.7 64-bit"
  },
  "language_info": {
   "codemirror_mode": {
    "name": "ipython",
    "version": 3
   },
   "file_extension": ".py",
   "mimetype": "text/x-python",
   "name": "python",
   "nbconvert_exporter": "python",
   "pygments_lexer": "ipython3",
   "version": "3.7.7"
  },
  "interpreter": {
   "hash": "ca35beca1e73f0e8e48de5d26c91c8a581bc78491f6978c6ebd776970508bb03"
  }
 },
 "nbformat": 4,
 "nbformat_minor": 2
}